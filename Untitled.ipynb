{
 "cells": [
  {
   "cell_type": "code",
   "execution_count": 1,
   "id": "c3ce105b",
   "metadata": {},
   "outputs": [
    {
     "name": "stderr",
     "output_type": "stream",
     "text": [
      "2023-01-21 17:47:58.244 \n",
      "  \u001b[33m\u001b[1mWarning:\u001b[0m to view this Streamlit app on a browser, run it with the following\n",
      "  command:\n",
      "\n",
      "    streamlit run C:\\Users\\folyb\\anaconda\\lib\\site-packages\\ipykernel_launcher.py [ARGUMENTS]\n",
      "2023-01-21 17:48:17.634 `label` got an empty value. This is discouraged for accessibility reasons and may be disallowed in the future by raising an exception. Please provide a non-empty label and hide it with label_visibility if needed.\n"
     ]
    }
   ],
   "source": [
    "#!/usr/bin/env python\n",
    "# coding: utf-8\n",
    "\n",
    "# In[1]:\n",
    "\n",
    "\n",
    "import streamlit as st\n",
    "from keras.models import load_model \n",
    "import spacy\n",
    "\n",
    "\n",
    "# chargement et  mise en cache du modèle\n",
    "@st.experimental_singleton\n",
    "def load_the_model():\n",
    "    \n",
    "    #STATIC_FOLDER = 'C:/Users/folyb/Documents/IA/P7/ESSAI/'\n",
    "    #MODEL_FOLDER = STATIC_FOLDER \n",
    "    \n",
    "    global model\n",
    "    #model = load_model(MODEL_FOLDER + 'bidirectional_lstm_with_return_sequences_on_embedded_heroku')\n",
    "    model = load_model('./model')\n",
    "\n",
    "    return model\n",
    "\n",
    "my_model = load_the_model() \n",
    "\n",
    "\n",
    "# fonction qui renvoie la prédiction\n",
    "def predict(tweet):\n",
    "    # prédiction\n",
    "    nlp = spacy.load(\"en_core_web_sm\")\n",
    "    tokens = nlp(tweet)\n",
    "    tokens = [token.lemma_ for token in tokens if str(token) != ' ']\n",
    "    prediction = my_model.predict(tokens)\n",
    "\n",
    "    return prediction\n",
    "\n",
    "\n",
    "st.title(\"Prédiction de sentiment\")\n",
    "st.markdown(\"Nous utilisons un tweet en entrée pour prédire son sentiment positif ou négatif\")\n",
    "\n",
    "# récupération du tweet\n",
    "st.subheader(\"Entrez un tweet\")\n",
    "st.write('Le tweet doit être en anglais.')\n",
    "tweet = st.text_input('',0,280)\n",
    "\n",
    "# affichage de la prédiction\n",
    "st.subheader(\"Sentiment\")\n",
    "if st.button(\"Prédire le sentiment\"):\n",
    "    sentiment = predict(tweet)\n",
    "    if sentiment[0][0] >= 0.5:\n",
    "        st.success('Le sentiment du tweet est positif')\n",
    "    else:\n",
    "        st.warning('Le sentiment du tweet est négatif')"
   ]
  },
  {
   "cell_type": "code",
   "execution_count": 2,
   "id": "4b124265",
   "metadata": {},
   "outputs": [
    {
     "name": "stdout",
     "output_type": "stream",
     "text": [
      "1/1 [==============================] - 3s 3s/step\n"
     ]
    },
    {
     "data": {
      "text/plain": [
       "array([[0.41903508]], dtype=float32)"
      ]
     },
     "execution_count": 2,
     "metadata": {},
     "output_type": "execute_result"
    }
   ],
   "source": [
    "predict('tweet')"
   ]
  },
  {
   "cell_type": "code",
   "execution_count": null,
   "id": "4df92c71",
   "metadata": {},
   "outputs": [],
   "source": []
  }
 ],
 "metadata": {
  "kernelspec": {
   "display_name": "Python 3 (ipykernel)",
   "language": "python",
   "name": "python3"
  },
  "language_info": {
   "codemirror_mode": {
    "name": "ipython",
    "version": 3
   },
   "file_extension": ".py",
   "mimetype": "text/x-python",
   "name": "python",
   "nbconvert_exporter": "python",
   "pygments_lexer": "ipython3",
   "version": "3.9.13"
  }
 },
 "nbformat": 4,
 "nbformat_minor": 5
}
